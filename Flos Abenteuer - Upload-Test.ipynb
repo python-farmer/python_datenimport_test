{
 "cells": [
  {
   "cell_type": "code",
   "execution_count": 1,
   "id": "b24ef222",
   "metadata": {},
   "outputs": [],
   "source": [
    "#Pandas-Bibliothek wird importiert (Standardphrase)\n",
    "import pandas as pd"
   ]
  },
  {
   "cell_type": "code",
   "execution_count": 3,
   "id": "0b17d342",
   "metadata": {},
   "outputs": [
    {
     "ename": "NameError",
     "evalue": "name 'flos_abenteuer_test' is not defined",
     "output_type": "error",
     "traceback": [
      "\u001b[1;31m---------------------------------------------------------------------------\u001b[0m",
      "\u001b[1;31mNameError\u001b[0m                                 Traceback (most recent call last)",
      "Cell \u001b[1;32mIn[3], line 2\u001b[0m\n\u001b[0;32m      1\u001b[0m \u001b[38;5;66;03m#Die Funktion pd.read_excel wird verwendet, um Daten aus der Excel-Datei 'flos_abenteuer_test.xlsx' in ein Pandas DataFrame (df) zu lesen.\u001b[39;00m\n\u001b[1;32m----> 2\u001b[0m df_flo \u001b[38;5;241m=\u001b[39m pd\u001b[38;5;241m.\u001b[39mread_excel(flos_abenteuer_test\u001b[38;5;241m.\u001b[39mxlsx)\n",
      "\u001b[1;31mNameError\u001b[0m: name 'flos_abenteuer_test' is not defined"
     ]
    }
   ],
   "source": [
    "#Die Funktion pd.read_excel wird verwendet, um Daten aus der Excel-Datei 'flos_abenteuer_test.xlsx' in ein Pandas DataFrame (df) zu lesen.\n",
    "df_flo = pd.read_excel(flos_abenteuer_test.xlsx)"
   ]
  },
  {
   "cell_type": "code",
   "execution_count": null,
   "id": "a57ae555",
   "metadata": {},
   "outputs": [],
   "source": []
  }
 ],
 "metadata": {
  "kernelspec": {
   "display_name": "Python 3 (ipykernel)",
   "language": "python",
   "name": "python3"
  },
  "language_info": {
   "codemirror_mode": {
    "name": "ipython",
    "version": 3
   },
   "file_extension": ".py",
   "mimetype": "text/x-python",
   "name": "python",
   "nbconvert_exporter": "python",
   "pygments_lexer": "ipython3",
   "version": "3.11.5"
  }
 },
 "nbformat": 4,
 "nbformat_minor": 5
}
